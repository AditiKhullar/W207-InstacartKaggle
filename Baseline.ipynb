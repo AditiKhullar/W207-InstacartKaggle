{
 "cells": [
  {
   "cell_type": "code",
   "execution_count": 5,
   "metadata": {
    "collapsed": false
   },
   "outputs": [],
   "source": [
    "import pandas as pd \n",
    "import numpy as np\n",
    "import seaborn as sns\n",
    "import nltk\n",
    "import os\n",
    "\n",
    "import matplotlib.pyplot as plt \n",
    "from functools import partial # to reduce df memory consumption by applying to_numeric\n",
    "\n",
    "import warnings\n",
    "warnings.filterwarnings('ignore') "
   ]
  },
  {
   "cell_type": "code",
   "execution_count": 6,
   "metadata": {
    "collapsed": false
   },
   "outputs": [
    {
     "data": {
      "text/plain": [
       "'C:\\\\Users\\\\wilsonjo\\\\Documents\\\\W207_FinalProject\\\\W207-InstacartKaggle'"
      ]
     },
     "execution_count": 6,
     "metadata": {},
     "output_type": "execute_result"
    }
   ],
   "source": [
    "cwd = os.getcwd()\n",
    "cwd"
   ]
  },
  {
   "cell_type": "code",
   "execution_count": 7,
   "metadata": {
    "collapsed": false
   },
   "outputs": [
    {
     "name": "stdout",
     "output_type": "stream",
     "text": [
      "Total aisles: 134\n"
     ]
    },
    {
     "data": {
      "text/html": [
       "<div>\n",
       "<table border=\"1\" class=\"dataframe\">\n",
       "  <thead>\n",
       "    <tr style=\"text-align: right;\">\n",
       "      <th></th>\n",
       "      <th>aisle_id</th>\n",
       "      <th>aisle</th>\n",
       "    </tr>\n",
       "  </thead>\n",
       "  <tbody>\n",
       "    <tr>\n",
       "      <th>0</th>\n",
       "      <td>1</td>\n",
       "      <td>prepared soups salads</td>\n",
       "    </tr>\n",
       "    <tr>\n",
       "      <th>1</th>\n",
       "      <td>2</td>\n",
       "      <td>specialty cheeses</td>\n",
       "    </tr>\n",
       "    <tr>\n",
       "      <th>2</th>\n",
       "      <td>3</td>\n",
       "      <td>energy granola bars</td>\n",
       "    </tr>\n",
       "    <tr>\n",
       "      <th>3</th>\n",
       "      <td>4</td>\n",
       "      <td>instant foods</td>\n",
       "    </tr>\n",
       "    <tr>\n",
       "      <th>4</th>\n",
       "      <td>5</td>\n",
       "      <td>marinades meat preparation</td>\n",
       "    </tr>\n",
       "  </tbody>\n",
       "</table>\n",
       "</div>"
      ],
      "text/plain": [
       "   aisle_id                       aisle\n",
       "0         1       prepared soups salads\n",
       "1         2           specialty cheeses\n",
       "2         3         energy granola bars\n",
       "3         4               instant foods\n",
       "4         5  marinades meat preparation"
      ]
     },
     "execution_count": 7,
     "metadata": {},
     "output_type": "execute_result"
    }
   ],
   "source": [
    "#aisles = pd.read_csv('/Users/aditi_khullar/Documents/Datascience@Berkeley/W207/FinalProject/data/aisles.csv', engine='c')\n",
    "aisles = pd.read_csv('C:\\\\Users\\\\wilsonjo\\\\Documents\\\\W207_FinalProject\\\\aisles.csv', engine='c')\n",
    "print('Total aisles: {}'.format(aisles.shape[0]))\n",
    "aisles.head()"
   ]
  },
  {
   "cell_type": "code",
   "execution_count": 8,
   "metadata": {
    "collapsed": false
   },
   "outputs": [
    {
     "name": "stdout",
     "output_type": "stream",
     "text": [
      "Total departments: 21\n"
     ]
    },
    {
     "data": {
      "text/html": [
       "<div>\n",
       "<table border=\"1\" class=\"dataframe\">\n",
       "  <thead>\n",
       "    <tr style=\"text-align: right;\">\n",
       "      <th></th>\n",
       "      <th>department_id</th>\n",
       "      <th>department</th>\n",
       "    </tr>\n",
       "  </thead>\n",
       "  <tbody>\n",
       "    <tr>\n",
       "      <th>0</th>\n",
       "      <td>1</td>\n",
       "      <td>frozen</td>\n",
       "    </tr>\n",
       "    <tr>\n",
       "      <th>1</th>\n",
       "      <td>2</td>\n",
       "      <td>other</td>\n",
       "    </tr>\n",
       "    <tr>\n",
       "      <th>2</th>\n",
       "      <td>3</td>\n",
       "      <td>bakery</td>\n",
       "    </tr>\n",
       "    <tr>\n",
       "      <th>3</th>\n",
       "      <td>4</td>\n",
       "      <td>produce</td>\n",
       "    </tr>\n",
       "    <tr>\n",
       "      <th>4</th>\n",
       "      <td>5</td>\n",
       "      <td>alcohol</td>\n",
       "    </tr>\n",
       "  </tbody>\n",
       "</table>\n",
       "</div>"
      ],
      "text/plain": [
       "   department_id department\n",
       "0              1     frozen\n",
       "1              2      other\n",
       "2              3     bakery\n",
       "3              4    produce\n",
       "4              5    alcohol"
      ]
     },
     "execution_count": 8,
     "metadata": {},
     "output_type": "execute_result"
    }
   ],
   "source": [
    "#departments\n",
    "#departments = pd.read_csv('/Users/aditi_khullar/Documents/Datascience@Berkeley/W207/FinalProject/data/departments.csv', engine='c')\n",
    "departments = pd.read_csv('C:\\\\Users\\\\wilsonjo\\\\Documents\\\\W207_FinalProject\\\\departments.csv', engine='c')\n",
    "\n",
    "print('Total departments: {}'.format(departments.shape[0]))\n",
    "departments.head()"
   ]
  },
  {
   "cell_type": "code",
   "execution_count": 9,
   "metadata": {
    "collapsed": false
   },
   "outputs": [
    {
     "name": "stdout",
     "output_type": "stream",
     "text": [
      "Total products: 49688\n"
     ]
    },
    {
     "data": {
      "text/html": [
       "<div>\n",
       "<table border=\"1\" class=\"dataframe\">\n",
       "  <thead>\n",
       "    <tr style=\"text-align: right;\">\n",
       "      <th></th>\n",
       "      <th>product_id</th>\n",
       "      <th>product_name</th>\n",
       "      <th>aisle_id</th>\n",
       "      <th>department_id</th>\n",
       "    </tr>\n",
       "  </thead>\n",
       "  <tbody>\n",
       "    <tr>\n",
       "      <th>0</th>\n",
       "      <td>1</td>\n",
       "      <td>Chocolate Sandwich Cookies</td>\n",
       "      <td>61</td>\n",
       "      <td>19</td>\n",
       "    </tr>\n",
       "    <tr>\n",
       "      <th>1</th>\n",
       "      <td>2</td>\n",
       "      <td>All-Seasons Salt</td>\n",
       "      <td>104</td>\n",
       "      <td>13</td>\n",
       "    </tr>\n",
       "    <tr>\n",
       "      <th>2</th>\n",
       "      <td>3</td>\n",
       "      <td>Robust Golden Unsweetened Oolong Tea</td>\n",
       "      <td>94</td>\n",
       "      <td>7</td>\n",
       "    </tr>\n",
       "    <tr>\n",
       "      <th>3</th>\n",
       "      <td>4</td>\n",
       "      <td>Smart Ones Classic Favorites Mini Rigatoni Wit...</td>\n",
       "      <td>38</td>\n",
       "      <td>1</td>\n",
       "    </tr>\n",
       "    <tr>\n",
       "      <th>4</th>\n",
       "      <td>5</td>\n",
       "      <td>Green Chile Anytime Sauce</td>\n",
       "      <td>5</td>\n",
       "      <td>13</td>\n",
       "    </tr>\n",
       "  </tbody>\n",
       "</table>\n",
       "</div>"
      ],
      "text/plain": [
       "   product_id                                       product_name  aisle_id  \\\n",
       "0           1                         Chocolate Sandwich Cookies        61   \n",
       "1           2                                   All-Seasons Salt       104   \n",
       "2           3               Robust Golden Unsweetened Oolong Tea        94   \n",
       "3           4  Smart Ones Classic Favorites Mini Rigatoni Wit...        38   \n",
       "4           5                          Green Chile Anytime Sauce         5   \n",
       "\n",
       "   department_id  \n",
       "0             19  \n",
       "1             13  \n",
       "2              7  \n",
       "3              1  \n",
       "4             13  "
      ]
     },
     "execution_count": 9,
     "metadata": {},
     "output_type": "execute_result"
    }
   ],
   "source": [
    "# products\n",
    "#products = pd.read_csv('/Users/aditi_khullar/Documents/Datascience@Berkeley/W207/FinalProject/data/products.csv', engine='c')\n",
    "products = pd.read_csv('C:\\\\Users\\\\wilsonjo\\\\Documents\\\\W207_FinalProject\\\\products.csv', engine='c')\n",
    "print('Total products: {}'.format(products.shape[0]))\n",
    "products.head(5)"
   ]
  },
  {
   "cell_type": "code",
   "execution_count": 10,
   "metadata": {
    "collapsed": false
   },
   "outputs": [
    {
     "name": "stdout",
     "output_type": "stream",
     "text": [
      "<class 'pandas.core.frame.DataFrame'>\n",
      "Int64Index: 49688 entries, 0 to 49687\n",
      "Data columns (total 6 columns):\n",
      "product_id       49688 non-null int64\n",
      "product_name     49688 non-null object\n",
      "aisle_id         49688 non-null int64\n",
      "department_id    49688 non-null int64\n",
      "department       49688 non-null object\n",
      "aisle            49688 non-null object\n",
      "dtypes: int64(3), object(3)\n",
      "memory usage: 2.7+ MB\n",
      "None\n"
     ]
    },
    {
     "data": {
      "text/html": [
       "<div>\n",
       "<table border=\"1\" class=\"dataframe\">\n",
       "  <thead>\n",
       "    <tr style=\"text-align: right;\">\n",
       "      <th></th>\n",
       "      <th>product_id</th>\n",
       "      <th>product_name</th>\n",
       "      <th>aisle_id</th>\n",
       "      <th>department_id</th>\n",
       "      <th>department</th>\n",
       "      <th>aisle</th>\n",
       "    </tr>\n",
       "  </thead>\n",
       "  <tbody>\n",
       "    <tr>\n",
       "      <th>0</th>\n",
       "      <td>1</td>\n",
       "      <td>chocolate sandwich cookies</td>\n",
       "      <td>61</td>\n",
       "      <td>19</td>\n",
       "      <td>snacks</td>\n",
       "      <td>cookies cakes</td>\n",
       "    </tr>\n",
       "    <tr>\n",
       "      <th>1</th>\n",
       "      <td>2</td>\n",
       "      <td>all-seasons salt</td>\n",
       "      <td>104</td>\n",
       "      <td>13</td>\n",
       "      <td>pantry</td>\n",
       "      <td>spices seasonings</td>\n",
       "    </tr>\n",
       "    <tr>\n",
       "      <th>2</th>\n",
       "      <td>3</td>\n",
       "      <td>robust golden unsweetened oolong tea</td>\n",
       "      <td>94</td>\n",
       "      <td>7</td>\n",
       "      <td>beverages</td>\n",
       "      <td>tea</td>\n",
       "    </tr>\n",
       "    <tr>\n",
       "      <th>3</th>\n",
       "      <td>4</td>\n",
       "      <td>smart ones classic favorites mini rigatoni wit...</td>\n",
       "      <td>38</td>\n",
       "      <td>1</td>\n",
       "      <td>frozen</td>\n",
       "      <td>frozen meals</td>\n",
       "    </tr>\n",
       "    <tr>\n",
       "      <th>4</th>\n",
       "      <td>5</td>\n",
       "      <td>green chile anytime sauce</td>\n",
       "      <td>5</td>\n",
       "      <td>13</td>\n",
       "      <td>pantry</td>\n",
       "      <td>marinades meat preparation</td>\n",
       "    </tr>\n",
       "  </tbody>\n",
       "</table>\n",
       "</div>"
      ],
      "text/plain": [
       "   product_id                                       product_name  aisle_id  \\\n",
       "0           1                         chocolate sandwich cookies        61   \n",
       "1           2                                   all-seasons salt       104   \n",
       "2           3               robust golden unsweetened oolong tea        94   \n",
       "3           4  smart ones classic favorites mini rigatoni wit...        38   \n",
       "4           5                          green chile anytime sauce         5   \n",
       "\n",
       "   department_id department                       aisle  \n",
       "0             19     snacks               cookies cakes  \n",
       "1             13     pantry           spices seasonings  \n",
       "2              7  beverages                         tea  \n",
       "3              1     frozen                frozen meals  \n",
       "4             13     pantry  marinades meat preparation  "
      ]
     },
     "execution_count": 10,
     "metadata": {},
     "output_type": "execute_result"
    }
   ],
   "source": [
    "# combine aisles, departments and products (left joined to products)\n",
    "goods = pd.merge(left=pd.merge(left=products, right=departments, how='left'), right=aisles, how='left')\n",
    "# to retain '-' and make product names more \"standard\"\n",
    "goods.product_name = goods.product_name.str.lower() \n",
    "print(goods.info())\n",
    "\n",
    "goods.head()"
   ]
  },
  {
   "cell_type": "markdown",
   "metadata": {},
   "source": [
    "###### Train Dataset"
   ]
  },
  {
   "cell_type": "code",
   "execution_count": 11,
   "metadata": {
    "collapsed": false
   },
   "outputs": [
    {
     "name": "stdout",
     "output_type": "stream",
     "text": [
      "Total ordered products(train): 1384617\n"
     ]
    },
    {
     "data": {
      "text/html": [
       "<div>\n",
       "<table border=\"1\" class=\"dataframe\">\n",
       "  <thead>\n",
       "    <tr style=\"text-align: right;\">\n",
       "      <th></th>\n",
       "      <th>order_id</th>\n",
       "      <th>product_id</th>\n",
       "      <th>add_to_cart_order</th>\n",
       "      <th>reordered</th>\n",
       "    </tr>\n",
       "  </thead>\n",
       "  <tbody>\n",
       "    <tr>\n",
       "      <th>0</th>\n",
       "      <td>1</td>\n",
       "      <td>49302</td>\n",
       "      <td>1</td>\n",
       "      <td>1</td>\n",
       "    </tr>\n",
       "    <tr>\n",
       "      <th>1</th>\n",
       "      <td>1</td>\n",
       "      <td>11109</td>\n",
       "      <td>2</td>\n",
       "      <td>1</td>\n",
       "    </tr>\n",
       "    <tr>\n",
       "      <th>2</th>\n",
       "      <td>1</td>\n",
       "      <td>10246</td>\n",
       "      <td>3</td>\n",
       "      <td>0</td>\n",
       "    </tr>\n",
       "    <tr>\n",
       "      <th>3</th>\n",
       "      <td>1</td>\n",
       "      <td>49683</td>\n",
       "      <td>4</td>\n",
       "      <td>0</td>\n",
       "    </tr>\n",
       "    <tr>\n",
       "      <th>4</th>\n",
       "      <td>1</td>\n",
       "      <td>43633</td>\n",
       "      <td>5</td>\n",
       "      <td>1</td>\n",
       "    </tr>\n",
       "  </tbody>\n",
       "</table>\n",
       "</div>"
      ],
      "text/plain": [
       "   order_id  product_id  add_to_cart_order  reordered\n",
       "0         1       49302                  1          1\n",
       "1         1       11109                  2          1\n",
       "2         1       10246                  3          0\n",
       "3         1       49683                  4          0\n",
       "4         1       43633                  5          1"
      ]
     },
     "execution_count": 11,
     "metadata": {},
     "output_type": "execute_result"
    }
   ],
   "source": [
    "# train dataset\n",
    "#op_train = pd.read_csv('/Users/aditi_khullar/Documents/Datascience@Berkeley/W207/FinalProject/data/order_products__train.csv', engine='c', \n",
    "#                       dtype={'order_id': np.int32, 'product_id': np.int32, \n",
    "#                              'add_to_cart_order': np.int16, 'reordered': np.int8})\n",
    "\n",
    "op_train = pd.read_csv('C:\\\\Users\\\\wilsonjo\\\\Documents\\\\W207_FinalProject\\\\order_products__train.csv', engine='c', \n",
    "                       dtype={'order_id': np.int32, 'product_id': np.int32, \n",
    "                              'add_to_cart_order': np.int16, 'reordered': np.int8})    \n",
    "print('Total ordered products(train): {}'.format(op_train.shape[0]))\n",
    "op_train.head()"
   ]
  },
  {
   "cell_type": "markdown",
   "metadata": {},
   "source": [
    "###### Prior Dataset"
   ]
  },
  {
   "cell_type": "code",
   "execution_count": 12,
   "metadata": {
    "collapsed": false
   },
   "outputs": [
    {
     "name": "stdout",
     "output_type": "stream",
     "text": [
      "Total ordered products(prior): 32434489\n"
     ]
    }
   ],
   "source": [
    "#op_prior = pd.read_csv('/Users/aditi_khullar/Documents/Datascience@Berkeley/W207/FinalProject/data/order_products__prior.csv', engine='c', \n",
    "#                       dtype={'order_id': np.int32, \n",
    "#                              'product_id': np.int32, \n",
    "#                              'add_to_cart_order': np.int16, \n",
    "#                             'reordered': np.int8})\n",
    "    \n",
    "op_prior = pd.read_csv('C:\\\\Users\\\\wilsonjo\\\\Documents\\\\W207_FinalProject\\\\order_products__prior.csv', engine='c', \n",
    "                       dtype={'order_id': np.int32, \n",
    "                              'product_id': np.int32, \n",
    "                              'add_to_cart_order': np.int16, \n",
    "                             'reordered': np.int8})\n",
    "\n",
    "print('Total ordered products(prior): {}'.format(op_prior.shape[0]))\n"
   ]
  },
  {
   "cell_type": "code",
   "execution_count": 13,
   "metadata": {
    "collapsed": false
   },
   "outputs": [
    {
     "data": {
      "text/html": [
       "<div>\n",
       "<table border=\"1\" class=\"dataframe\">\n",
       "  <thead>\n",
       "    <tr style=\"text-align: right;\">\n",
       "      <th></th>\n",
       "      <th>order_id</th>\n",
       "      <th>product_id</th>\n",
       "      <th>add_to_cart_order</th>\n",
       "      <th>reordered</th>\n",
       "    </tr>\n",
       "  </thead>\n",
       "  <tbody>\n",
       "    <tr>\n",
       "      <th>0</th>\n",
       "      <td>2</td>\n",
       "      <td>33120</td>\n",
       "      <td>1</td>\n",
       "      <td>1</td>\n",
       "    </tr>\n",
       "    <tr>\n",
       "      <th>1</th>\n",
       "      <td>2</td>\n",
       "      <td>28985</td>\n",
       "      <td>2</td>\n",
       "      <td>1</td>\n",
       "    </tr>\n",
       "    <tr>\n",
       "      <th>2</th>\n",
       "      <td>2</td>\n",
       "      <td>9327</td>\n",
       "      <td>3</td>\n",
       "      <td>0</td>\n",
       "    </tr>\n",
       "    <tr>\n",
       "      <th>3</th>\n",
       "      <td>2</td>\n",
       "      <td>45918</td>\n",
       "      <td>4</td>\n",
       "      <td>1</td>\n",
       "    </tr>\n",
       "    <tr>\n",
       "      <th>4</th>\n",
       "      <td>2</td>\n",
       "      <td>30035</td>\n",
       "      <td>5</td>\n",
       "      <td>0</td>\n",
       "    </tr>\n",
       "  </tbody>\n",
       "</table>\n",
       "</div>"
      ],
      "text/plain": [
       "   order_id  product_id  add_to_cart_order  reordered\n",
       "0         2       33120                  1          1\n",
       "1         2       28985                  2          1\n",
       "2         2        9327                  3          0\n",
       "3         2       45918                  4          1\n",
       "4         2       30035                  5          0"
      ]
     },
     "execution_count": 13,
     "metadata": {},
     "output_type": "execute_result"
    }
   ],
   "source": [
    "op_prior.head()"
   ]
  },
  {
   "cell_type": "markdown",
   "metadata": {},
   "source": [
    "Some "
   ]
  },
  {
   "cell_type": "code",
   "execution_count": 30,
   "metadata": {
    "collapsed": false
   },
   "outputs": [
    {
     "name": "stdout",
     "output_type": "stream",
     "text": [
      "49677\n"
     ]
    }
   ],
   "source": [
    "# Curious how many unique product have been purchased\n",
    "print(op_prior.product_id.unique().shape[0])"
   ]
  },
  {
   "cell_type": "markdown",
   "metadata": {},
   "source": [
    "###### Test Dataset"
   ]
  },
  {
   "cell_type": "code",
   "execution_count": 33,
   "metadata": {
    "collapsed": false
   },
   "outputs": [],
   "source": [
    "# test dataset (submission)\n",
    "test = pd.read_csv('/Users/aditi_khullar/Documents/Datascience@Berkeley/W207/FinalProject/data/sample_submission.csv', engine='c')\n",
    "\n",
    "\n",
    "\n",
    "print('Total orders(test): {}'.format(test.shape[0]))\n",
    "test.head()"
   ]
  },
  {
   "cell_type": "code",
   "execution_count": 17,
   "metadata": {
    "collapsed": false
   },
   "outputs": [
    {
     "name": "stdout",
     "output_type": "stream",
     "text": [
      "Total orders: 3421083\n",
      "<class 'pandas.core.frame.DataFrame'>\n",
      "RangeIndex: 3421083 entries, 0 to 3421082\n",
      "Data columns (total 7 columns):\n",
      "order_id                  int32\n",
      "user_id                   int32\n",
      "eval_set                  object\n",
      "order_number              int32\n",
      "order_dow                 int8\n",
      "order_hour_of_day         int8\n",
      "days_since_prior_order    float16\n",
      "dtypes: float16(1), int32(3), int8(2), object(1)\n",
      "memory usage: 78.3+ MB\n",
      "None\n"
     ]
    },
    {
     "data": {
      "text/html": [
       "<div>\n",
       "<table border=\"1\" class=\"dataframe\">\n",
       "  <thead>\n",
       "    <tr style=\"text-align: right;\">\n",
       "      <th></th>\n",
       "      <th>order_id</th>\n",
       "      <th>user_id</th>\n",
       "      <th>eval_set</th>\n",
       "      <th>order_number</th>\n",
       "      <th>order_dow</th>\n",
       "      <th>order_hour_of_day</th>\n",
       "      <th>days_since_prior_order</th>\n",
       "    </tr>\n",
       "  </thead>\n",
       "  <tbody>\n",
       "    <tr>\n",
       "      <th>0</th>\n",
       "      <td>2539329</td>\n",
       "      <td>1</td>\n",
       "      <td>prior</td>\n",
       "      <td>1</td>\n",
       "      <td>2</td>\n",
       "      <td>8</td>\n",
       "      <td>NaN</td>\n",
       "    </tr>\n",
       "    <tr>\n",
       "      <th>1</th>\n",
       "      <td>2398795</td>\n",
       "      <td>1</td>\n",
       "      <td>prior</td>\n",
       "      <td>2</td>\n",
       "      <td>3</td>\n",
       "      <td>7</td>\n",
       "      <td>15.0</td>\n",
       "    </tr>\n",
       "    <tr>\n",
       "      <th>2</th>\n",
       "      <td>473747</td>\n",
       "      <td>1</td>\n",
       "      <td>prior</td>\n",
       "      <td>3</td>\n",
       "      <td>3</td>\n",
       "      <td>12</td>\n",
       "      <td>21.0</td>\n",
       "    </tr>\n",
       "    <tr>\n",
       "      <th>3</th>\n",
       "      <td>2254736</td>\n",
       "      <td>1</td>\n",
       "      <td>prior</td>\n",
       "      <td>4</td>\n",
       "      <td>4</td>\n",
       "      <td>7</td>\n",
       "      <td>29.0</td>\n",
       "    </tr>\n",
       "    <tr>\n",
       "      <th>4</th>\n",
       "      <td>431534</td>\n",
       "      <td>1</td>\n",
       "      <td>prior</td>\n",
       "      <td>5</td>\n",
       "      <td>4</td>\n",
       "      <td>15</td>\n",
       "      <td>28.0</td>\n",
       "    </tr>\n",
       "  </tbody>\n",
       "</table>\n",
       "</div>"
      ],
      "text/plain": [
       "   order_id  user_id eval_set  order_number  order_dow  order_hour_of_day  \\\n",
       "0   2539329        1    prior             1          2                  8   \n",
       "1   2398795        1    prior             2          3                  7   \n",
       "2    473747        1    prior             3          3                 12   \n",
       "3   2254736        1    prior             4          4                  7   \n",
       "4    431534        1    prior             5          4                 15   \n",
       "\n",
       "   days_since_prior_order  \n",
       "0                     NaN  \n",
       "1                    15.0  \n",
       "2                    21.0  \n",
       "3                    29.0  \n",
       "4                    28.0  "
      ]
     },
     "execution_count": 17,
     "metadata": {},
     "output_type": "execute_result"
    }
   ],
   "source": [
    "# orders\n",
    "#orders = pd.read_csv('/Users/aditi_khullar/Documents/Datascience@Berkeley/W207/FinalProject/data/orders.csv', engine='c', dtype={'order_id': np.int32, \n",
    "#                                                           'user_id': np.int32, \n",
    "#                                                           'order_number': np.int32, \n",
    "#                                                           'order_dow': np.int8, \n",
    "#                                                           'order_hour_of_day': np.int8, \n",
    "#                                                           'days_since_prior_order': np.float16})\n",
    "\n",
    "orders = pd.read_csv('C:\\\\Users\\\\wilsonjo\\\\Documents\\\\W207_FinalProject\\\\orders.csv', engine='c', dtype={'order_id': np.int32, \n",
    "                                                           'user_id': np.int32, \n",
    "                                                           'order_number': np.int32, \n",
    "                                                           'order_dow': np.int8, \n",
    "                                                           'order_hour_of_day': np.int8, \n",
    "                                                           'days_since_prior_order': np.float16})\n",
    "\n",
    "\n",
    "print('Total orders: {}'.format(orders.shape[0]))\n",
    "print(orders.info())\n",
    "orders.head()"
   ]
  },
  {
   "cell_type": "code",
   "execution_count": 16,
   "metadata": {
    "collapsed": false
   },
   "outputs": [
    {
     "ename": "NameError",
     "evalue": "name 'orders' is not defined",
     "output_type": "error",
     "traceback": [
      "\u001b[0;31m---------------------------------------------------------------------------\u001b[0m",
      "\u001b[0;31mNameError\u001b[0m                                 Traceback (most recent call last)",
      "\u001b[0;32m<ipython-input-16-8612b885355f>\u001b[0m in \u001b[0;36m<module>\u001b[0;34m()\u001b[0m\n\u001b[1;32m      6\u001b[0m order_details = pd.merge(\n\u001b[1;32m      7\u001b[0m                 \u001b[0mleft\u001b[0m\u001b[1;33m=\u001b[0m\u001b[0mop_train\u001b[0m\u001b[1;33m,\u001b[0m\u001b[1;33m\u001b[0m\u001b[0m\n\u001b[0;32m----> 8\u001b[0;31m                  \u001b[0mright\u001b[0m\u001b[1;33m=\u001b[0m\u001b[0morders\u001b[0m\u001b[1;33m,\u001b[0m\u001b[1;33m\u001b[0m\u001b[0m\n\u001b[0m\u001b[1;32m      9\u001b[0m                  \u001b[0mhow\u001b[0m\u001b[1;33m=\u001b[0m\u001b[1;34m'left'\u001b[0m\u001b[1;33m,\u001b[0m\u001b[1;33m\u001b[0m\u001b[0m\n\u001b[1;32m     10\u001b[0m                  \u001b[0mon\u001b[0m\u001b[1;33m=\u001b[0m\u001b[1;34m'order_id'\u001b[0m\u001b[1;33m\u001b[0m\u001b[0m\n",
      "\u001b[0;31mNameError\u001b[0m: name 'orders' is not defined"
     ]
    }
   ],
   "source": [
    "# merge train and prior together iteratively, to fit into 8GB kernel RAM\n",
    "# split df indexes into parts\n",
    "indexes = np.linspace(0, len(op_prior), num=10, dtype=np.int32)\n",
    "\n",
    "# initialize it with train dataset\n",
    "order_details = pd.merge(\n",
    "                left=op_train,\n",
    "                 right=orders, \n",
    "                 how='left', \n",
    "                 on='order_id'\n",
    "        ).apply(partial(pd.to_numeric, errors='ignore', downcast='integer'))\n",
    "\n",
    "# add order hierarchy\n",
    "order_details = pd.merge(\n",
    "                left=order_details,\n",
    "                right=goods[['product_id',\n",
    "                             'product_name',\n",
    "                             'aisle_id', \n",
    "                             'department_id']].apply(partial(pd.to_numeric, \n",
    "                                                             errors='ignore', \n",
    "                                                             downcast='integer')),\n",
    "                how='left',\n",
    "                on='product_id'\n",
    ")\n",
    "\n",
    "print(order_details.shape, op_train.shape)\n",
    "\n",
    "\n",
    "# delete (redundant now) dataframes\n",
    "del op_train\n",
    "\n",
    "order_details.head()"
   ]
  },
  {
   "cell_type": "code",
   "execution_count": 21,
   "metadata": {
    "collapsed": false
   },
   "outputs": [
    {
     "data": {
      "text/html": [
       "<div>\n",
       "<table border=\"1\" class=\"dataframe\">\n",
       "  <thead>\n",
       "    <tr style=\"text-align: right;\">\n",
       "      <th></th>\n",
       "      <th>order_id</th>\n",
       "      <th>product_id</th>\n",
       "      <th>add_to_cart_order</th>\n",
       "      <th>reordered</th>\n",
       "      <th>user_id</th>\n",
       "      <th>eval_set</th>\n",
       "      <th>order_number</th>\n",
       "      <th>order_dow</th>\n",
       "      <th>order_hour_of_day</th>\n",
       "      <th>days_since_prior_order</th>\n",
       "      <th>product_name</th>\n",
       "    </tr>\n",
       "  </thead>\n",
       "  <tbody>\n",
       "    <tr>\n",
       "      <th>0</th>\n",
       "      <td>1</td>\n",
       "      <td>49302</td>\n",
       "      <td>1</td>\n",
       "      <td>1</td>\n",
       "      <td>112108</td>\n",
       "      <td>train</td>\n",
       "      <td>4</td>\n",
       "      <td>4</td>\n",
       "      <td>10</td>\n",
       "      <td>9</td>\n",
       "      <td>bulgarian yogurt</td>\n",
       "    </tr>\n",
       "    <tr>\n",
       "      <th>1</th>\n",
       "      <td>1</td>\n",
       "      <td>11109</td>\n",
       "      <td>2</td>\n",
       "      <td>1</td>\n",
       "      <td>112108</td>\n",
       "      <td>train</td>\n",
       "      <td>4</td>\n",
       "      <td>4</td>\n",
       "      <td>10</td>\n",
       "      <td>9</td>\n",
       "      <td>organic 4% milk fat whole milk cottage cheese</td>\n",
       "    </tr>\n",
       "    <tr>\n",
       "      <th>2</th>\n",
       "      <td>1</td>\n",
       "      <td>10246</td>\n",
       "      <td>3</td>\n",
       "      <td>0</td>\n",
       "      <td>112108</td>\n",
       "      <td>train</td>\n",
       "      <td>4</td>\n",
       "      <td>4</td>\n",
       "      <td>10</td>\n",
       "      <td>9</td>\n",
       "      <td>organic celery hearts</td>\n",
       "    </tr>\n",
       "    <tr>\n",
       "      <th>3</th>\n",
       "      <td>1</td>\n",
       "      <td>49683</td>\n",
       "      <td>4</td>\n",
       "      <td>0</td>\n",
       "      <td>112108</td>\n",
       "      <td>train</td>\n",
       "      <td>4</td>\n",
       "      <td>4</td>\n",
       "      <td>10</td>\n",
       "      <td>9</td>\n",
       "      <td>cucumber kirby</td>\n",
       "    </tr>\n",
       "    <tr>\n",
       "      <th>4</th>\n",
       "      <td>1</td>\n",
       "      <td>43633</td>\n",
       "      <td>5</td>\n",
       "      <td>1</td>\n",
       "      <td>112108</td>\n",
       "      <td>train</td>\n",
       "      <td>4</td>\n",
       "      <td>4</td>\n",
       "      <td>10</td>\n",
       "      <td>9</td>\n",
       "      <td>lightly smoked sardines in olive oil</td>\n",
       "    </tr>\n",
       "  </tbody>\n",
       "</table>\n",
       "</div>"
      ],
      "text/plain": [
       "   order_id  product_id  add_to_cart_order  reordered  user_id eval_set  \\\n",
       "0         1       49302                  1          1   112108    train   \n",
       "1         1       11109                  2          1   112108    train   \n",
       "2         1       10246                  3          0   112108    train   \n",
       "3         1       49683                  4          0   112108    train   \n",
       "4         1       43633                  5          1   112108    train   \n",
       "\n",
       "   order_number  order_dow  order_hour_of_day  days_since_prior_order  \\\n",
       "0             4          4                 10                       9   \n",
       "1             4          4                 10                       9   \n",
       "2             4          4                 10                       9   \n",
       "3             4          4                 10                       9   \n",
       "4             4          4                 10                       9   \n",
       "\n",
       "                                    product_name  \n",
       "0                               bulgarian yogurt  \n",
       "1  organic 4% milk fat whole milk cottage cheese  \n",
       "2                          organic celery hearts  \n",
       "3                                 cucumber kirby  \n",
       "4           lightly smoked sardines in olive oil  "
      ]
     },
     "execution_count": 21,
     "metadata": {},
     "output_type": "execute_result"
    }
   ],
   "source": [
    "# Josh's order_details that preserves the product name as a python object that points to a string\n",
    "indexes = np.linspace(0, len(op_prior), num=10, dtype=np.int32)\n",
    "\n",
    "# initialize it with train dataset\n",
    "order_details = pd.merge(\n",
    "                left=op_train,\n",
    "                 right=orders, \n",
    "                 how='left', \n",
    "                 on='order_id'\n",
    "        ).apply(partial(pd.to_numeric, errors='ignore', downcast='integer'))\n",
    "\n",
    "order_details_jw = pd.merge(\n",
    "                left=order_details,\n",
    "                right=goods[['product_id',\n",
    "                             'product_name']],\n",
    "                how='left',\n",
    "                on='product_id'\n",
    ")\n",
    "\n",
    "order_details_jw.head()"
   ]
  },
  {
   "cell_type": "code",
   "execution_count": 22,
   "metadata": {
    "collapsed": false
   },
   "outputs": [
    {
     "data": {
      "text/plain": [
       "0                                        [bulgarian, yogurt]\n",
       "1          [organic, 4%, milk, fat, whole, milk, cottage,...\n",
       "2                                  [organic, celery, hearts]\n",
       "3                                          [cucumber, kirby]\n",
       "4                [lightly, smoked, sardines, in, olive, oil]\n",
       "5                                [bag, of, organic, bananas]\n",
       "6                                   [organic, hass, avocado]\n",
       "7                           [organic, whole, string, cheese]\n",
       "8                         [grated, pecorino, romano, cheese]\n",
       "9                                            [spring, water]\n",
       "10                                  [organic, half, &, half]\n",
       "11                                    [super, greens, salad]\n",
       "12               [cage, free, extra, large, grade, aa, eggs]\n",
       "13                                  [prosciutto,, americano]\n",
       "14                   [organic, garnet, sweet, potato, (yam)]\n",
       "15                                               [asparagus]\n",
       "16                                     [shelled, pistachios]\n",
       "17                              [organic, biologique, limes]\n",
       "18         [organic, raw, unfiltered, apple, cider, vinegar]\n",
       "19                                  [organic, baby, arugula]\n",
       "20                             [organic, hot, house, tomato]\n",
       "21                                             [green, peas]\n",
       "22                                       [bunched, cilantro]\n",
       "23                                   [flat, parsley,, bunch]\n",
       "24                                             [fresh, dill]\n",
       "25                                         [roasted, turkey]\n",
       "26                                       [organic, cucumber]\n",
       "27                                [organic, grape, tomatoes]\n",
       "28                           [organic, pomegranate, kernels]\n",
       "29                                    [organic, raspberries]\n",
       "                                 ...                        \n",
       "1384587                                  [campanelle, pasta]\n",
       "1384588    [sparkling, orange, juice, &, prickly, pear, b...\n",
       "1384589    [italian, sparkling, pomegranate, and, orange,...\n",
       "1384590    [organic, sticks, low, moisture, part, skim, m...\n",
       "1384591                          [gluten, free, rice, bread]\n",
       "1384592     [organic, whole, grain, wheat, english, muffins]\n",
       "1384593                               [lemon, sports, drink]\n",
       "1384594                            [organic, grated, ginger]\n",
       "1384595                           [organic, baby, kale, mix]\n",
       "1384596                            [organic, baby, broccoli]\n",
       "1384597              [total, plain, greek, strained, yogurt]\n",
       "1384598                      [homestyle, classics, meatloaf]\n",
       "1384599                            [sparkling, lemon, water]\n",
       "1384600                                      [brioche, buns]\n",
       "1384601                                      [tartar, sauce]\n",
       "1384602    [wine, infused, salame, cheese, and, crackers,...\n",
       "1384603                  [extralean, ground, turkey, breast]\n",
       "1384604                                    [sweet, potatoes]\n",
       "1384605                          [club, soda, lower, sodium]\n",
       "1384606                         [classic, britannia, crisps]\n",
       "1384607                                         [baby, brie]\n",
       "1384608    [genoa, salame, with, white, cheddar, cheese, ...\n",
       "1384609                  [white, giant, paper, towel, rolls]\n",
       "1384610                             [organic, half, &, half]\n",
       "1384611    [no, salt, added, gluten-free, blue, chips, ma...\n",
       "1384612                           [natural, artesian, water]\n",
       "1384613                             [twice, baked, potatoes]\n",
       "1384614                 [organic, unsweetened, almond, milk]\n",
       "1384615                             [creamy, peanut, butter]\n",
       "1384616                                [broccoli, florettes]\n",
       "Name: product_name, dtype: object"
      ]
     },
     "execution_count": 22,
     "metadata": {},
     "output_type": "execute_result"
    }
   ],
   "source": [
    "# Formatting for count vectorizer\n",
    "order_details_jw[\"product_name\"].str.split()"
   ]
  },
  {
   "cell_type": "code",
   "execution_count": 23,
   "metadata": {
    "collapsed": true
   },
   "outputs": [],
   "source": [
    "# Importing countvectorizer\n",
    "from sklearn.feature_extraction.text import CountVectorizer"
   ]
  },
  {
   "cell_type": "code",
   "execution_count": 26,
   "metadata": {
    "collapsed": false
   },
   "outputs": [],
   "source": [
    "# Initializing count vectorizer with basically no methods\n",
    "# We are running into method problems if we try and expand 'max_features'\n",
    "vectorizer = CountVectorizer(analyzer = \"word\",\n",
    "                             tokenizer = None,\n",
    "                             preprocessor = None,\n",
    "                             stop_words = None,\n",
    "                             max_features = 100)\n",
    "\n",
    "# Fitting the vectorizer to the data => creating the feature space around product name\n",
    "train_data_features = vectorizer.fit_transform(order_details_jw['product_name'])\n",
    "\n",
    "# Converting the features into an array\n",
    "train_data_features = train_data_features.toarray()"
   ]
  },
  {
   "cell_type": "code",
   "execution_count": 32,
   "metadata": {
    "collapsed": false
   },
   "outputs": [
    {
     "data": {
      "text/plain": [
       "array([[0, 0, 0, ..., 0, 0, 1],\n",
       "       [0, 0, 0, ..., 0, 0, 0],\n",
       "       [0, 0, 0, ..., 0, 0, 0],\n",
       "       ..., \n",
       "       [0, 1, 0, ..., 0, 0, 0],\n",
       "       [0, 0, 0, ..., 0, 0, 0],\n",
       "       [0, 0, 0, ..., 0, 0, 0]], dtype=int64)"
      ]
     },
     "execution_count": 32,
     "metadata": {},
     "output_type": "execute_result"
    }
   ],
   "source": [
    "# Sparse matrix of vectorized features\n",
    "train_data_features"
   ]
  },
  {
   "cell_type": "code",
   "execution_count": 28,
   "metadata": {
    "collapsed": true
   },
   "outputs": [],
   "source": [
    "# Inspecting New Feature Space\n",
    "train_data_features.shape\n",
    "vocab = vectorizer.get_feature_names()"
   ]
  },
  {
   "cell_type": "code",
   "execution_count": 29,
   "metadata": {
    "collapsed": false
   },
   "outputs": [
    {
     "data": {
      "text/plain": [
       "['100',\n",
       " 'almond',\n",
       " 'and',\n",
       " 'apple',\n",
       " 'avocado',\n",
       " 'baby',\n",
       " 'bag',\n",
       " 'banana',\n",
       " 'bananas',\n",
       " 'bar',\n",
       " 'beans',\n",
       " 'black',\n",
       " 'blueberry',\n",
       " 'bread',\n",
       " 'breast',\n",
       " 'broccoli',\n",
       " 'brown',\n",
       " 'bunch',\n",
       " 'butter',\n",
       " 'carrots',\n",
       " 'cereal',\n",
       " 'cheddar',\n",
       " 'cheese',\n",
       " 'chicken',\n",
       " 'chips',\n",
       " 'chocolate',\n",
       " 'classic',\n",
       " 'coconut',\n",
       " 'coffee',\n",
       " 'corn',\n",
       " 'crackers',\n",
       " 'cream',\n",
       " 'dark',\n",
       " 'eggs',\n",
       " 'extra',\n",
       " 'fat',\n",
       " 'free',\n",
       " 'fresh',\n",
       " 'frozen',\n",
       " 'fruit',\n",
       " 'garlic',\n",
       " 'gluten',\n",
       " 'grade',\n",
       " 'grain',\n",
       " 'greek',\n",
       " 'green',\n",
       " 'half',\n",
       " 'hass',\n",
       " 'honey',\n",
       " 'ice',\n",
       " 'juice',\n",
       " 'kale',\n",
       " 'large',\n",
       " 'lemon',\n",
       " 'low',\n",
       " 'milk',\n",
       " 'mix',\n",
       " 'natural',\n",
       " 'of',\n",
       " 'oil',\n",
       " 'onion',\n",
       " 'orange',\n",
       " 'organic',\n",
       " 'original',\n",
       " 'pasta',\n",
       " 'peanut',\n",
       " 'pepper',\n",
       " 'plain',\n",
       " 'potato',\n",
       " 'pure',\n",
       " 'raspberries',\n",
       " 'red',\n",
       " 'reduced',\n",
       " 'rice',\n",
       " 'roasted',\n",
       " 'salt',\n",
       " 'sauce',\n",
       " 'sea',\n",
       " 'seedless',\n",
       " 'shredded',\n",
       " 'sliced',\n",
       " 'sparkling',\n",
       " 'spinach',\n",
       " 'strawberries',\n",
       " 'strawberry',\n",
       " 'style',\n",
       " 'sweet',\n",
       " 'tomato',\n",
       " 'tomatoes',\n",
       " 'total',\n",
       " 'turkey',\n",
       " 'unsweetened',\n",
       " 'vanilla',\n",
       " 'water',\n",
       " 'wheat',\n",
       " 'white',\n",
       " 'whole',\n",
       " 'with',\n",
       " 'yellow',\n",
       " 'yogurt']"
      ]
     },
     "execution_count": 29,
     "metadata": {},
     "output_type": "execute_result"
    }
   ],
   "source": [
    "# Which 100 words were chosen...yay Avocado!\n",
    "vocab"
   ]
  },
  {
   "cell_type": "code",
   "execution_count": 13,
   "metadata": {
    "collapsed": false
   },
   "outputs": [
    {
     "name": "stdout",
     "output_type": "stream",
     "text": [
      "Datafame length: 33819114\n",
      "Memory consumption: 3096.23 Mb\n",
      "add_to_cart_order           int16\n",
      "aisle_id                    int16\n",
      "days_since_prior_order    float16\n",
      "department_id                int8\n",
      "eval_set                   object\n",
      "order_dow                    int8\n",
      "order_hour_of_day            int8\n",
      "order_id                    int32\n",
      "order_number                int32\n",
      "product_id                  int32\n",
      "reordered                    int8\n",
      "user_id                     int32\n",
      "dtype: object\n",
      "CPU times: user 28.2 s, sys: 14.1 s, total: 42.3 s\n",
      "Wall time: 45.3 s\n"
     ]
    }
   ],
   "source": [
    "%%time\n",
    "# update by small portions\n",
    "for i in range(len(indexes)-1):\n",
    "    order_details = pd.concat(\n",
    "        [   \n",
    "            order_details,\n",
    "            pd.merge(left=pd.merge(\n",
    "                            left=op_prior.loc[indexes[i]:indexes[i+1], :],\n",
    "                            right=goods[['product_id', \n",
    "                                         'aisle_id', \n",
    "                                         'department_id' ]].apply(partial(pd.to_numeric, \n",
    "                                                                          errors='ignore', \n",
    "                                                                          downcast='integer')),\n",
    "                            how='left',\n",
    "                            on='product_id'\n",
    "                            ),\n",
    "                     right=orders, \n",
    "                     how='left', \n",
    "                     on='order_id'\n",
    "                ) #.apply(partial(pd.to_numeric, errors='ignore', downcast='integer'))\n",
    "        ]\n",
    "    )\n",
    "        \n",
    "print('Datafame length: {}'.format(order_details.shape[0]))\n",
    "print('Memory consumption: {:.2f} Mb'.format(sum(order_details.memory_usage(index=True, \n",
    "                                                                         deep=True) / 2**20)))\n",
    "# check dtypes to see if we use memory effectively\n",
    "print(order_details.dtypes)\n",
    "\n",
    "# make sure we didn't forget to retain test dataset :D\n",
    "test_orders = orders[orders.eval_set == 'test']\n",
    "\n",
    "# delete (redundant now) dataframes\n",
    "del op_prior, orders"
   ]
  },
  {
   "cell_type": "code",
   "execution_count": 14,
   "metadata": {
    "collapsed": false
   },
   "outputs": [
    {
     "data": {
      "text/html": [
       "<div>\n",
       "<table border=\"1\" class=\"dataframe\">\n",
       "  <thead>\n",
       "    <tr style=\"text-align: right;\">\n",
       "      <th></th>\n",
       "      <th>order_id</th>\n",
       "      <th>user_id</th>\n",
       "      <th>eval_set</th>\n",
       "      <th>order_number</th>\n",
       "      <th>order_dow</th>\n",
       "      <th>order_hour_of_day</th>\n",
       "      <th>days_since_prior_order</th>\n",
       "    </tr>\n",
       "  </thead>\n",
       "  <tbody>\n",
       "    <tr>\n",
       "      <th>38</th>\n",
       "      <td>2774568</td>\n",
       "      <td>3</td>\n",
       "      <td>test</td>\n",
       "      <td>13</td>\n",
       "      <td>5</td>\n",
       "      <td>15</td>\n",
       "      <td>11.0</td>\n",
       "    </tr>\n",
       "    <tr>\n",
       "      <th>44</th>\n",
       "      <td>329954</td>\n",
       "      <td>4</td>\n",
       "      <td>test</td>\n",
       "      <td>6</td>\n",
       "      <td>3</td>\n",
       "      <td>12</td>\n",
       "      <td>30.0</td>\n",
       "    </tr>\n",
       "    <tr>\n",
       "      <th>53</th>\n",
       "      <td>1528013</td>\n",
       "      <td>6</td>\n",
       "      <td>test</td>\n",
       "      <td>4</td>\n",
       "      <td>3</td>\n",
       "      <td>16</td>\n",
       "      <td>22.0</td>\n",
       "    </tr>\n",
       "    <tr>\n",
       "      <th>96</th>\n",
       "      <td>1376945</td>\n",
       "      <td>11</td>\n",
       "      <td>test</td>\n",
       "      <td>8</td>\n",
       "      <td>6</td>\n",
       "      <td>11</td>\n",
       "      <td>8.0</td>\n",
       "    </tr>\n",
       "    <tr>\n",
       "      <th>102</th>\n",
       "      <td>1356845</td>\n",
       "      <td>12</td>\n",
       "      <td>test</td>\n",
       "      <td>6</td>\n",
       "      <td>1</td>\n",
       "      <td>20</td>\n",
       "      <td>30.0</td>\n",
       "    </tr>\n",
       "  </tbody>\n",
       "</table>\n",
       "</div>"
      ],
      "text/plain": [
       "     order_id  user_id eval_set  order_number  order_dow  order_hour_of_day  \\\n",
       "38    2774568        3     test            13          5                 15   \n",
       "44     329954        4     test             6          3                 12   \n",
       "53    1528013        6     test             4          3                 16   \n",
       "96    1376945       11     test             8          6                 11   \n",
       "102   1356845       12     test             6          1                 20   \n",
       "\n",
       "     days_since_prior_order  \n",
       "38                     11.0  \n",
       "44                     30.0  \n",
       "53                     22.0  \n",
       "96                      8.0  \n",
       "102                    30.0  "
      ]
     },
     "execution_count": 14,
     "metadata": {},
     "output_type": "execute_result"
    }
   ],
   "source": [
    "test_orders.head()"
   ]
  },
  {
   "cell_type": "markdown",
   "metadata": {},
   "source": [
    "###### Customer will take all reordered"
   ]
  },
  {
   "cell_type": "code",
   "execution_count": 18,
   "metadata": {
    "collapsed": false
   },
   "outputs": [
    {
     "name": "stdout",
     "output_type": "stream",
     "text": [
      "CPU times: user 14.8 s, sys: 663 ms, total: 15.5 s\n",
      "Wall time: 15.8 s\n"
     ]
    }
   ],
   "source": [
    "%%time\n",
    "# baseline submission\n",
    "test_history = order_details[(order_details.user_id.isin(test_orders.user_id)) \n",
    "                             & (order_details.reordered == 1)]\\\n",
    ".groupby('user_id')['product_id'].apply(lambda x: ' '.join([str(e) for e in set(x)])).reset_index()\n",
    "test_history.columns = ['user_id', 'products']\n",
    "\n",
    "test_history = pd.merge(left=test_history, \n",
    "                        right=test_orders, \n",
    "                        how='right', \n",
    "                        on='user_id')[['order_id', 'products']]\n",
    "\n",
    "test_history.to_csv('baseline_takeAllReordered.csv', encoding='utf-8', index=False)\n"
   ]
  },
  {
   "cell_type": "markdown",
   "metadata": {
    "collapsed": true
   },
   "source": [
    "### Turning Product Name into a useful feature"
   ]
  },
  {
   "cell_type": "code",
   "execution_count": 50,
   "metadata": {
    "collapsed": false
   },
   "outputs": [
    {
     "name": "stdout",
     "output_type": "stream",
     "text": [
      "['order_id', 'product_id', 'add_to_cart_order', 'reordered', 'user_id', 'eval_set', 'order_number', 'order_dow', 'order_hour_of_day', 'days_since_prior_order', 'product_name', 'aisle_id', 'department_id']\n",
      "<class 'pandas.core.frame.DataFrame'>\n",
      "Int64Index: 1384617 entries, 0 to 1384616\n",
      "Data columns (total 13 columns):\n",
      "order_id                  1384617 non-null int32\n",
      "product_id                1384617 non-null int32\n",
      "add_to_cart_order         1384617 non-null int8\n",
      "reordered                 1384617 non-null int8\n",
      "user_id                   1384617 non-null int32\n",
      "eval_set                  1384617 non-null object\n",
      "order_number              1384617 non-null int8\n",
      "order_dow                 1384617 non-null int8\n",
      "order_hour_of_day         1384617 non-null int8\n",
      "days_since_prior_order    1384617 non-null int8\n",
      "product_name              1384617 non-null object\n",
      "aisle_id                  1384617 non-null int16\n",
      "department_id             1384617 non-null int8\n",
      "dtypes: int16(1), int32(3), int8(7), object(2)\n",
      "memory usage: 59.4+ MB\n"
     ]
    },
    {
     "ename": "TypeError",
     "evalue": "expected string or bytes-like object",
     "output_type": "error",
     "traceback": [
      "\u001b[0;31m---------------------------------------------------------------------------\u001b[0m",
      "\u001b[0;31mTypeError\u001b[0m                                 Traceback (most recent call last)",
      "\u001b[0;32m<ipython-input-50-bb413ba90c7b>\u001b[0m in \u001b[0;36m<module>\u001b[0;34m()\u001b[0m\n\u001b[1;32m      5\u001b[0m reform_prod_name = re.sub(\"[_]\",\n\u001b[1;32m      6\u001b[0m                           \u001b[1;34m\" \"\u001b[0m\u001b[1;33m,\u001b[0m\u001b[1;33m\u001b[0m\u001b[0m\n\u001b[0;32m----> 7\u001b[0;31m                           order_details.loc[:,'product_name'] )\n\u001b[0m",
      "\u001b[0;32mC:\\Users\\wilsonjo\\AppData\\Local\\Continuum\\Anaconda3\\lib\\re.py\u001b[0m in \u001b[0;36msub\u001b[0;34m(pattern, repl, string, count, flags)\u001b[0m\n\u001b[1;32m    189\u001b[0m     \u001b[0ma\u001b[0m \u001b[0mcallable\u001b[0m\u001b[1;33m,\u001b[0m \u001b[0mit\u001b[0m\u001b[0;31m'\u001b[0m\u001b[0ms\u001b[0m \u001b[0mpassed\u001b[0m \u001b[0mthe\u001b[0m \u001b[0mmatch\u001b[0m \u001b[0mobject\u001b[0m \u001b[1;32mand\u001b[0m \u001b[0mmust\u001b[0m \u001b[1;32mreturn\u001b[0m\u001b[1;33m\u001b[0m\u001b[0m\n\u001b[1;32m    190\u001b[0m     a replacement string to be used.\"\"\"\n\u001b[0;32m--> 191\u001b[0;31m     \u001b[1;32mreturn\u001b[0m \u001b[0m_compile\u001b[0m\u001b[1;33m(\u001b[0m\u001b[0mpattern\u001b[0m\u001b[1;33m,\u001b[0m \u001b[0mflags\u001b[0m\u001b[1;33m)\u001b[0m\u001b[1;33m.\u001b[0m\u001b[0msub\u001b[0m\u001b[1;33m(\u001b[0m\u001b[0mrepl\u001b[0m\u001b[1;33m,\u001b[0m \u001b[0mstring\u001b[0m\u001b[1;33m,\u001b[0m \u001b[0mcount\u001b[0m\u001b[1;33m)\u001b[0m\u001b[1;33m\u001b[0m\u001b[0m\n\u001b[0m\u001b[1;32m    192\u001b[0m \u001b[1;33m\u001b[0m\u001b[0m\n\u001b[1;32m    193\u001b[0m \u001b[1;32mdef\u001b[0m \u001b[0msubn\u001b[0m\u001b[1;33m(\u001b[0m\u001b[0mpattern\u001b[0m\u001b[1;33m,\u001b[0m \u001b[0mrepl\u001b[0m\u001b[1;33m,\u001b[0m \u001b[0mstring\u001b[0m\u001b[1;33m,\u001b[0m \u001b[0mcount\u001b[0m\u001b[1;33m=\u001b[0m\u001b[1;36m0\u001b[0m\u001b[1;33m,\u001b[0m \u001b[0mflags\u001b[0m\u001b[1;33m=\u001b[0m\u001b[1;36m0\u001b[0m\u001b[1;33m)\u001b[0m\u001b[1;33m:\u001b[0m\u001b[1;33m\u001b[0m\u001b[0m\n",
      "\u001b[0;31mTypeError\u001b[0m: expected string or bytes-like object"
     ]
    }
   ],
   "source": [
    "import re\n",
    "print(list(order_details.columns.values))\n",
    "order_details['product_name'] = order_details['product_name'].astype(str)\n",
    "order_details.info()\n",
    "reform_prod_name = re.sub(\"[_]\",\n",
    "                          \" \",\n",
    "                          order_details.loc[:,'product_name'] )\n"
   ]
  }
 ],
 "metadata": {
  "kernelspec": {
   "display_name": "Python 3",
   "language": "python",
   "name": "python3"
  },
  "language_info": {
   "codemirror_mode": {
    "name": "ipython",
    "version": 3
   },
   "file_extension": ".py",
   "mimetype": "text/x-python",
   "name": "python",
   "nbconvert_exporter": "python",
   "pygments_lexer": "ipython3",
   "version": "3.4.5"
  }
 },
 "nbformat": 4,
 "nbformat_minor": 2
}
